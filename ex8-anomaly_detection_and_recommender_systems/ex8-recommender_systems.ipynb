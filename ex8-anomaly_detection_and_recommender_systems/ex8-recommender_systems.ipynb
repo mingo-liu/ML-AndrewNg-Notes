{
 "cells": [
  {
   "cell_type": "code",
   "execution_count": 1,
   "id": "55616e9c",
   "metadata": {},
   "outputs": [],
   "source": [
    "import numpy as np\n",
    "import matplotlib.pyplot as plt\n",
    "from scipy.io import loadmat"
   ]
  },
  {
   "cell_type": "code",
   "execution_count": 2,
   "id": "50af38d6",
   "metadata": {},
   "outputs": [
    {
     "data": {
      "text/plain": [
       "((1682, 943), (1682, 943))"
      ]
     },
     "execution_count": 2,
     "metadata": {},
     "output_type": "execute_result"
    }
   ],
   "source": [
    "data = loadmat('./data/ex8_movies.mat')\n",
    "Y = data['Y']\n",
    "R = data['R']\n",
    "\n",
    "Y.shape, R.shape"
   ]
  },
  {
   "cell_type": "code",
   "execution_count": 3,
   "id": "48ddb286",
   "metadata": {
    "scrolled": true
   },
   "outputs": [
    {
     "data": {
      "text/plain": [
       "3.8783185840707963"
      ]
     },
     "execution_count": 3,
     "metadata": {},
     "output_type": "execute_result"
    }
   ],
   "source": [
    "# 第一部电影的平均评分\n",
    "np.sum(Y[0, :]) / np.sum(R[0, :])"
   ]
  },
  {
   "cell_type": "code",
   "execution_count": 4,
   "id": "6ca8d1ad",
   "metadata": {
    "scrolled": true
   },
   "outputs": [
    {
     "data": {
      "text/plain": [
       "((1682, 10), (943, 10))"
      ]
     },
     "execution_count": 4,
     "metadata": {},
     "output_type": "execute_result"
    }
   ],
   "source": [
    "data_param = loadmat('./data/ex8_movieParams.mat')\n",
    "X = data_param['X']   \n",
    "Theta = data_param['Theta']\n",
    "\n",
    "X.shape, Theta.shape"
   ]
  },
  {
   "cell_type": "code",
   "execution_count": 5,
   "id": "84684787",
   "metadata": {},
   "outputs": [],
   "source": [
    "# 选取部分数据集\n",
    "nu = 4  # user\n",
    "nm = 5  # movies\n",
    "nf = 3  # features\n",
    "\n",
    "X = X[:nm, :nf]\n",
    "Theta = Theta[:nu, :nf]\n",
    "Y = Y[:nm, :nu]\n",
    "R = R[:nm, :nu]"
   ]
  },
  {
   "cell_type": "code",
   "execution_count": 6,
   "id": "8fbf9614",
   "metadata": {},
   "outputs": [],
   "source": [
    "# 序列化，打平; 原因：优化函数中传入的参数是一维的\n",
    "def serialize(X, Theta):\n",
    "    return np.concatenate((X.ravel(), Theta.ravel()), axis=None)\n",
    "\n",
    "# 反序列化，恢复为矩阵形式\n",
    "def deserialize(param, nu, nm, nf):\n",
    "    X = param[:nm*nf].reshape(nm, nf)\n",
    "    Theta = param[nm*nf:].reshape(nu, nf)\n",
    "    return X, Theta\n"
   ]
  },
  {
   "cell_type": "code",
   "execution_count": 7,
   "id": "26192319",
   "metadata": {},
   "outputs": [],
   "source": [
    "# cost function\n",
    "def cofi_cost_func(param, Y, R, nu, nm, nf, lam=0):\n",
    "    X, Theta = deserialize(param, nu, nm, nf)\n",
    "    term = X.dot(Theta.T)\n",
    "    \n",
    "    term = np.multiply(term, R) # 将未评分的元素置零\n",
    "    cost = (np.sum((term - Y) ** 2)) / 2\n",
    "    \n",
    "    # 添加正则项\n",
    "    cost += (lam / 2.0) * np.sum(np.square(Theta))\n",
    "    cost += (lam / 2.0) * np.sum(np.square(X))\n",
    "    return cost"
   ]
  },
  {
   "cell_type": "code",
   "execution_count": 8,
   "id": "9ec99cb5",
   "metadata": {},
   "outputs": [
    {
     "name": "stdout",
     "output_type": "stream",
     "text": [
      "Cost: 22.224603725685675\n"
     ]
    }
   ],
   "source": [
    "# 计算在当前X和theta下cost\n",
    "params = serialize(X, Theta)\n",
    "\n",
    "cost = cofi_cost_func(params, Y, R, nu, nm, nf)\n",
    "\n",
    "print('Cost:', cost)"
   ]
  },
  {
   "cell_type": "code",
   "execution_count": 9,
   "id": "de59f37e",
   "metadata": {},
   "outputs": [],
   "source": [
    "def gradient(param, Y, R, nu, nm, nf, lam=0):\n",
    "    X, Theta = deserialize(param, nu, nm, nf)\n",
    "    \n",
    "    term = X.dot(Theta.T)\n",
    "    term = np.multiply(term, R)\n",
    "    term -= Y  # (nm, nu)\n",
    "    X_grad = term.dot(Theta) # (nm, nu) * (nu, nf) -> (nm, nf)\n",
    "    Theta_grad = term.T.dot(X) #(nu, nm) * (nm, nf) -> (nu, nf)\n",
    "    \n",
    "    X_grad += lam * X\n",
    "    Theta_grad += lam * Theta\n",
    "    \n",
    "    return serialize(X_grad, Theta_grad)"
   ]
  },
  {
   "cell_type": "code",
   "execution_count": 10,
   "id": "05d51e78",
   "metadata": {
    "scrolled": true
   },
   "outputs": [
    {
     "data": {
      "text/plain": [
       "(array([[-2.52899165,  7.57570308, -1.89979026],\n",
       "        [-0.56819597,  3.35265031, -0.52339845],\n",
       "        [-0.83240713,  4.91163297, -0.76677878],\n",
       "        [-0.38358278,  2.26333698, -0.35334048],\n",
       "        [-0.80378006,  4.74271842, -0.74040871]]),\n",
       " array([[-10.5680202 ,   4.62776019,  -7.16004443],\n",
       "        [ -3.05099006,   1.16441367,  -3.47410789],\n",
       "        [  0.        ,   0.        ,   0.        ],\n",
       "        [  0.        ,   0.        ,   0.        ]]))"
      ]
     },
     "execution_count": 10,
     "metadata": {},
     "output_type": "execute_result"
    }
   ],
   "source": [
    "deserialize(gradient(params, Y, R, nu, nm, nf), nu, nm, nf)"
   ]
  },
  {
   "cell_type": "code",
   "execution_count": 11,
   "id": "f34ad4bb",
   "metadata": {
    "scrolled": true
   },
   "outputs": [
    {
     "data": {
      "text/plain": [
       "['Toy Story (1995)',\n",
       " 'GoldenEye (1995)',\n",
       " 'Four Rooms (1995)',\n",
       " 'Get Shorty (1995)',\n",
       " 'Copycat (1995)',\n",
       " 'Shanghai Triad (Yao a yao yao dao waipo qiao) (1995)',\n",
       " 'Twelve Monkeys (1995)',\n",
       " 'Babe (1995)',\n",
       " 'Dead Man Walking (1995)',\n",
       " 'Richard III (1995)']"
      ]
     },
     "execution_count": 11,
     "metadata": {},
     "output_type": "execute_result"
    }
   ],
   "source": [
    "movies = []\n",
    "with open('data/movie_ids.txt', encoding='ISO-8859-1') as f:\n",
    "    for line in f:\n",
    "        movies.append(' '.join(line.strip('\\n').split(' ')[1:]))\n",
    "\n",
    "movies[:10]  # 前10部电影"
   ]
  },
  {
   "cell_type": "code",
   "execution_count": 12,
   "id": "686105ce",
   "metadata": {},
   "outputs": [],
   "source": [
    "# 对一些电影评分\n",
    "my_ratings = np.zeros((1682,1))\n",
    "my_ratings[0]   = 4\n",
    "my_ratings[97]  = 2\n",
    "my_ratings[6]   = 3\n",
    "my_ratings[11]  = 5\n",
    "my_ratings[53]  = 4\n",
    "my_ratings[63]  = 5\n",
    "my_ratings[65]  = 3\n",
    "my_ratings[68]  = 5\n",
    "my_ratings[182] = 4\n",
    "my_ratings[225] = 5\n",
    "my_ratings[354] = 5"
   ]
  },
  {
   "cell_type": "code",
   "execution_count": 13,
   "id": "bd2bee47",
   "metadata": {},
   "outputs": [],
   "source": [
    "data = loadmat('./data/ex8_movies.mat')  #重新加载数据集，以使用全部的数据\n",
    "\n",
    "Y = data['Y']\n",
    "R = data['R']\n",
    "nf = 10 # 只使用10个特征"
   ]
  },
  {
   "cell_type": "code",
   "execution_count": 14,
   "id": "15ceb94b",
   "metadata": {},
   "outputs": [],
   "source": [
    "# 在数据集中添加上面的评分\n",
    "myR_row = my_ratings > 0\n",
    "Y = np.hstack((Y,my_ratings))\n",
    "R = np.hstack((R,myR_row))\n",
    "nm, nu = Y.shape"
   ]
  },
  {
   "cell_type": "code",
   "execution_count": 15,
   "id": "4e59346b",
   "metadata": {},
   "outputs": [],
   "source": [
    "# 均值规范化\n",
    "def normalize_ratrings(Y, R):\n",
    "    Ymean = np.sum(Y, axis=1) / np.sum(R, axis=1) # 行向量\n",
    "    Ymean = Ymean.reshape((Ymean.shape[0], 1))\n",
    "    return Y - Ymean, Ymean"
   ]
  },
  {
   "cell_type": "code",
   "execution_count": 16,
   "id": "2ac1c992",
   "metadata": {},
   "outputs": [
    {
     "data": {
      "text/plain": [
       "((1682, 944), (1682, 1))"
      ]
     },
     "execution_count": 16,
     "metadata": {},
     "output_type": "execute_result"
    }
   ],
   "source": [
    "Ynorm, Ymean = normalize_ratrings(Y,R)\n",
    "\n",
    "Ynorm.shape, Ymean.shape"
   ]
  },
  {
   "cell_type": "code",
   "execution_count": 17,
   "id": "be800f03",
   "metadata": {},
   "outputs": [],
   "source": [
    "from scipy.optimize import fmin_tnc\n",
    "\n",
    "X = np.random.rand(nm,nf)\n",
    "Theta = np.random.rand(nu,nf)\n",
    "params = serialize(X, Theta)\n",
    "\n",
    "\n",
    "my_lambda = 10.0\n",
    "\n",
    "# 这里使用Y(和答案一致)，应该使用Ynorm(但只会迭代一次，出错，未知原因)\n",
    "result = fmin_tnc(cofi_cost_func, x0=params, fprime=gradient, \\\n",
    "                               args=(Y, R, nu, nm, nf, my_lambda), \\\n",
    "                                disp=0)"
   ]
  },
  {
   "cell_type": "code",
   "execution_count": 18,
   "id": "83b132c6",
   "metadata": {},
   "outputs": [
    {
     "data": {
      "text/plain": [
       "((1682, 10), (944, 10))"
      ]
     },
     "execution_count": 18,
     "metadata": {},
     "output_type": "execute_result"
    }
   ],
   "source": [
    "final_X, final_Theta = deserialize(result[0], nu, nm, nf)\n",
    "\n",
    "final_X.shape, final_Theta.shape"
   ]
  },
  {
   "cell_type": "code",
   "execution_count": 19,
   "id": "fa50a1d6",
   "metadata": {},
   "outputs": [],
   "source": [
    "pred_matrix = final_X @ final_Theta.T"
   ]
  },
  {
   "cell_type": "code",
   "execution_count": 20,
   "id": "f9a1828d",
   "metadata": {},
   "outputs": [],
   "source": [
    "my_pred = pred_matrix[:, -1] + Ymean.flatten()"
   ]
  },
  {
   "cell_type": "code",
   "execution_count": 21,
   "id": "0d0d2aeb",
   "metadata": {},
   "outputs": [
    {
     "name": "stdout",
     "output_type": "stream",
     "text": [
      "Top recommendations for you:\n",
      "Predicting rating 8.6 for movie Star Wars (1977).\n",
      "Predicting rating 8.4 for movie Titanic (1997).\n",
      "Predicting rating 8.4 for movie Shawshank Redemption, The (1994).\n",
      "Predicting rating 8.3 for movie Schindler's List (1993).\n",
      "Predicting rating 8.2 for movie Raiders of the Lost Ark (1981).\n",
      "Predicting rating 8.2 for movie Good Will Hunting (1997).\n",
      "Predicting rating 8.1 for movie Usual Suspects, The (1995).\n",
      "Predicting rating 8.1 for movie Empire Strikes Back, The (1980).\n",
      "Predicting rating 8.1 for movie Godfather, The (1972).\n",
      "Predicting rating 8.1 for movie Braveheart (1995).\n",
      "\n",
      "Original ratings provided:\n",
      "Rated 4 for movie Toy Story (1995).\n",
      "Rated 3 for movie Twelve Monkeys (1995).\n",
      "Rated 5 for movie Usual Suspects, The (1995).\n",
      "Rated 4 for movie Outbreak (1995).\n",
      "Rated 5 for movie Shawshank Redemption, The (1994).\n",
      "Rated 3 for movie While You Were Sleeping (1995).\n",
      "Rated 5 for movie Forrest Gump (1994).\n",
      "Rated 2 for movie Silence of the Lambs, The (1991).\n",
      "Rated 4 for movie Alien (1979).\n",
      "Rated 5 for movie Die Hard 2 (1990).\n",
      "Rated 5 for movie Sphere (1998).\n"
     ]
    }
   ],
   "source": [
    "# Sort my predictions from highest to lowest\n",
    "pred_idxs_sorted = np.argsort(my_pred)\n",
    "pred_idxs_sorted[:] = pred_idxs_sorted[::-1]\n",
    "\n",
    "print (\"Top recommendations for you:\")\n",
    "for i in range(10):\n",
    "    print ('Predicting rating %0.1f for movie %s.' % \\\n",
    "    (my_pred[pred_idxs_sorted[i]], movies[pred_idxs_sorted[i]]))\n",
    "    \n",
    "print (\"\\nOriginal ratings provided:\")\n",
    "for i in range(len(my_ratings)):\n",
    "    if my_ratings[i] > 0:\n",
    "        print ('Rated %d for movie %s.' % (my_ratings[i],movies[i]))"
   ]
  }
 ],
 "metadata": {
  "kernelspec": {
   "display_name": "Python 3 (ipykernel)",
   "language": "python",
   "name": "python3"
  },
  "language_info": {
   "codemirror_mode": {
    "name": "ipython",
    "version": 3
   },
   "file_extension": ".py",
   "mimetype": "text/x-python",
   "name": "python",
   "nbconvert_exporter": "python",
   "pygments_lexer": "ipython3",
   "version": "3.9.7"
  }
 },
 "nbformat": 4,
 "nbformat_minor": 5
}
