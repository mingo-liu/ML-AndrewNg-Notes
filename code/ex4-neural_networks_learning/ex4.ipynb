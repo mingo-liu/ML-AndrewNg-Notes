{
 "cells": [
  {
   "cell_type": "code",
   "execution_count": 1,
   "id": "cf95d73c",
   "metadata": {},
   "outputs": [],
   "source": [
    "import numpy as np\n",
    "import pandas as pd\n",
    "import matplotlib.pyplot as plt\n",
    "import matplotlib\n",
    "from scipy.io import loadmat"
   ]
  },
  {
   "cell_type": "code",
   "execution_count": 2,
   "id": "9f2bcf4a",
   "metadata": {},
   "outputs": [
    {
     "data": {
      "text/plain": [
       "((5000, 400), (5000, 1))"
      ]
     },
     "execution_count": 2,
     "metadata": {},
     "output_type": "execute_result"
    }
   ],
   "source": [
    "path_data = \"ex4data1.mat\"\n",
    "data = loadmat(path_data)\n",
    "data['X'].shape, data['y'].shape"
   ]
  },
  {
   "cell_type": "code",
   "execution_count": 3,
   "id": "f61f2894",
   "metadata": {},
   "outputs": [],
   "source": [
    "X = data['X']\n",
    "y = data['y']"
   ]
  },
  {
   "cell_type": "code",
   "execution_count": 4,
   "id": "68d731bd",
   "metadata": {},
   "outputs": [
    {
     "data": {
      "text/plain": [
       "((25, 401), (10, 26))"
      ]
     },
     "execution_count": 4,
     "metadata": {},
     "output_type": "execute_result"
    }
   ],
   "source": [
    "path_weights = \"ex4weights.mat\"\n",
    "weights = loadmat(path_weights)\n",
    "\n",
    "theta1 = weights['Theta1']\n",
    "theta2 = weights['Theta2']\n",
    "\n",
    "theta1.shape, theta2.shape"
   ]
  },
  {
   "cell_type": "code",
   "execution_count": 5,
   "id": "d80754fa",
   "metadata": {},
   "outputs": [],
   "source": [
    "# 数字的绘制看ex3"
   ]
  },
  {
   "cell_type": "code",
   "execution_count": 6,
   "id": "e2536832",
   "metadata": {},
   "outputs": [
    {
     "data": {
      "text/plain": [
       "((5000, 10), array([0., 0., 0., 0., 0., 0., 0., 0., 0., 1.]))"
      ]
     },
     "execution_count": 6,
     "metadata": {},
     "output_type": "execute_result"
    }
   ],
   "source": [
    "# onhot-encoder\n",
    "from sklearn.preprocessing import OneHotEncoder\n",
    "encoder = OneHotEncoder(sparse=False)\n",
    "y_onehot = encoder.fit_transform(y)\n",
    "\n",
    "y_onehot.shape, y_onehot[0, :]"
   ]
  },
  {
   "cell_type": "code",
   "execution_count": 7,
   "id": "b9eb8aec",
   "metadata": {},
   "outputs": [],
   "source": [
    "def sigmoid(z):\n",
    "    return 1 / (1 + np.exp(-z))\n",
    "\n",
    "\n",
    "def feedforward(X, theta1, theta2):\n",
    "    \"\"\"前向传播\"\"\"\n",
    "    a1 = np.insert(X, 0, np.ones(X.shape[0]), axis=1)  # 0表示插入的位置，又axis=1，在第0列插入1列1\n",
    "    \n",
    "    z2 = a1 @ theta1.T\n",
    "    a2 = sigmoid(z2)\n",
    "    a2 = np.insert(a2, 0, np.ones(a2.shape[0]), axis=1)\n",
    "    \n",
    "    z3 = a2 @ theta2.T\n",
    "    a3 = sigmoid(z3)\n",
    "    return a1, z2, a2, z3, a3\n",
    "\n",
    "def cost_func(X, y, theta, input_size, hidden_size, num_labels, learning_rate):\n",
    "    \"\"\"代价函数\"\"\"\n",
    "    theta1 = np.reshape(theta[:hidden_size * (input_size + 1)], (hidden_size, input_size + 1))\n",
    "    theta2 = np.reshape(theta[hidden_size * (input_size + 1):], (num_labels, hidden_size + 1))\n",
    "    \n",
    "    a1, z2, a2, z3, a3 = feedforward(X, theta1, theta2)\n",
    "   \n",
    "    m = X.shape[0]\n",
    "    J = 0\n",
    "    for i in range(m):   # 对于所有的样本\n",
    "        temp1 = -y[i,:] * np.log(a3[i,:])\n",
    "        temp2 = (1-y[i,:]) * np.log(1 - a3[i,:])\n",
    "        J += np.sum(temp1 - temp2)\n",
    "    return J / m"
   ]
  },
  {
   "cell_type": "code",
   "execution_count": 8,
   "id": "cdee5108",
   "metadata": {},
   "outputs": [],
   "source": [
    "input_size = 400\n",
    "hidden_size = 25\n",
    "num_labels = 10\n",
    "learning_rate = 1"
   ]
  },
  {
   "cell_type": "code",
   "execution_count": 9,
   "id": "a7861b8c",
   "metadata": {},
   "outputs": [
    {
     "data": {
      "text/plain": [
       "0.2876291651613187"
      ]
     },
     "execution_count": 9,
     "metadata": {},
     "output_type": "execute_result"
    }
   ],
   "source": [
    "# 使用给定的theta1和theta2计算cost\n",
    "params = np.concatenate([theta1.flatten(), theta2.flatten()])\n",
    "cost_func(X, y_onehot, params, input_size, hidden_size, num_labels, learning_rate)"
   ]
  },
  {
   "cell_type": "code",
   "execution_count": 10,
   "id": "6554bcee",
   "metadata": {},
   "outputs": [],
   "source": [
    "def cost_func_reg(X, y, theta, input_size, hidden_size, num_labels, learning_rate):\n",
    "    \"\"\"正则化的代价函数\"\"\"\n",
    "    theta1 = np.reshape(theta[:hidden_size * (input_size + 1)], (hidden_size, input_size + 1))\n",
    "    theta2 = np.reshape(theta[hidden_size * (input_size + 1):], (num_labels, hidden_size + 1))\n",
    "    \n",
    "    a1, z2, a2, z3, a3 = feedforward(X, theta1, theta2)\n",
    "   \n",
    "    m = X.shape[0]\n",
    "    J = 0\n",
    "    for i in range(m):   # 对于所有的样本\n",
    "        temp1 = -y[i,:] * np.log(a3[i,:])\n",
    "        temp2 = (1-y[i,:]) * np.log(1 - a3[i,:])\n",
    "        J += np.sum(temp1 - temp2)\n",
    "    J = J / m\n",
    "    \n",
    "    # 添加正则化项，防止过拟合\n",
    "    theta1 = theta1 ** 2\n",
    "    theta2 = theta2 ** 2\n",
    "    J += learning_rate * (np.sum(theta1[:, 1:]) + np.sum(theta2[:, 1:])) / (2 * m)\n",
    "    return J"
   ]
  },
  {
   "cell_type": "code",
   "execution_count": 11,
   "id": "f52f9f04",
   "metadata": {},
   "outputs": [
    {
     "data": {
      "text/plain": [
       "0.3837698590909234"
      ]
     },
     "execution_count": 11,
     "metadata": {},
     "output_type": "execute_result"
    }
   ],
   "source": [
    "cost_func_reg(X, y_onehot, params, input_size, hidden_size, num_labels, learning_rate)"
   ]
  },
  {
   "cell_type": "code",
   "execution_count": 12,
   "id": "af880420",
   "metadata": {
    "scrolled": true
   },
   "outputs": [
    {
     "data": {
      "text/plain": [
       "(0.0, 0.25)"
      ]
     },
     "execution_count": 12,
     "metadata": {},
     "output_type": "execute_result"
    }
   ],
   "source": [
    "# 反向传播算法\n",
    "\n",
    "def sigmoid_grad(z):\n",
    "    \"\"\"sigmoid梯度\"\"\"\n",
    "    return sigmoid(z) * (1 - sigmoid(z))\n",
    "\n",
    "sigmoid_grad(100), sigmoid_grad(0)"
   ]
  },
  {
   "cell_type": "code",
   "execution_count": 13,
   "id": "8a1894e8",
   "metadata": {},
   "outputs": [
    {
     "data": {
      "text/plain": [
       "(10285,)"
      ]
     },
     "execution_count": 13,
     "metadata": {},
     "output_type": "execute_result"
    }
   ],
   "source": [
    "# 生成在[-0.12, 0.12]的随机数\n",
    "\n",
    "# params = (np.random.random(hidden_size * (input_size + 1) + (hidden_size + 1)  * num_labels) - 0.5) * 0.24\n",
    "params = (np.random.random(size=hidden_size * (input_size + 1) + num_labels * (hidden_size + 1)) - 0.5) * 0.24\n",
    "params.shape"
   ]
  },
  {
   "cell_type": "code",
   "execution_count": 14,
   "id": "3b3a0662",
   "metadata": {},
   "outputs": [],
   "source": [
    "def back_prop(params, input_size, hidden_size, num_labels, X, y, learning_rate):\n",
    "    theta1 = np.reshape(params[:hidden_size * (input_size + 1)], (hidden_size, input_size + 1))\n",
    "    theta2 = np.reshape(params[hidden_size * (input_size + 1):], (num_labels, hidden_size + 1))\n",
    "    \n",
    "    a1, z2, a2, z3, a3 = feedforward(X, theta1, theta2)\n",
    "   \n",
    "    m = X.shape[0]\n",
    "    J = 0\n",
    "    for i in range(m):   # 对于所有的样本\n",
    "        temp1 = -y[i,:] * np.log(a3[i,:])\n",
    "        temp2 = (1-y[i,:]) * np.log(1 - a3[i,:])\n",
    "        J += np.sum(temp1 - temp2)\n",
    "    J /= m\n",
    "    \n",
    "    delta_theta1 = np.zeros(theta1.shape)\n",
    "    delta_theta2 = np.zeros(theta2.shape)\n",
    "    # 反向传播求dw\n",
    "    for i in range(m):\n",
    "        a1_t = a1[i, :].reshape(a1.shape[1], 1) # (401, 1)\n",
    "        \n",
    "        z2_t = z2[i, :].reshape(z2.shape[1], 1) # (25, 1)\n",
    "        a2_t = a2[i, :].reshape(a2.shape[1], 1) # (26, 1)\n",
    "        \n",
    "        z3_t = z3[i, :].reshape(z3.shape[1], 1) # (10, 1)\n",
    "        a3_t = a3[i, :].reshape(a3.shape[1], 1)\n",
    "        y_t = y[i, :].reshape(y.shape[1], 1)\n",
    "        \n",
    "        delta3 = a3_t -  y_t # (10, 1)\n",
    "        z2_t = np.insert(z2_t, 0, np.ones(1), axis=0)\n",
    "        delta2 = theta2.T @ delta3 * sigmoid_grad(z2_t) # (26, 1)\n",
    "       \n",
    "        \n",
    "        delta_theta1 += delta2[1:, :] @ a1_t.T # (25, 401)\n",
    "        delta_theta2 += delta3 @ a2_t.T # (10, 26)\n",
    "        \n",
    "    delta_theta1 /= m\n",
    "    delta_theta2 /= m\n",
    "    grad = np.concatenate((np.ravel(delta_theta1), np.ravel(delta_theta2)))\n",
    "    return J, grad\n"
   ]
  },
  {
   "cell_type": "code",
   "execution_count": 15,
   "id": "a106e2d0",
   "metadata": {
    "scrolled": true
   },
   "outputs": [
    {
     "data": {
      "text/plain": [
       "(6.8062826235762115, (10285,))"
      ]
     },
     "execution_count": 15,
     "metadata": {},
     "output_type": "execute_result"
    }
   ],
   "source": [
    "J, grad = back_prop(params, input_size, hidden_size, num_labels, X, y_onehot, learning_rate)\n",
    "J, grad.shape"
   ]
  },
  {
   "cell_type": "code",
   "execution_count": null,
   "id": "cad9bc03",
   "metadata": {
    "scrolled": true
   },
   "outputs": [],
   "source": [
    "from scipy.optimize import minimize\n",
    "\n",
    "fmin = minimize(fun=back_prop, x0=params, args=(input_size, hidden_size, num_labels, X, y_onehot, learning_rate),\n",
    "                method='TNC', jac=True, options={'maxiter': 250})\n",
    "fmin"
   ]
  },
  {
   "cell_type": "code",
   "execution_count": null,
   "id": "2985e0db",
   "metadata": {},
   "outputs": [],
   "source": [
    "X = np.matrix(X)\n",
    "theta1 = np.reshape(fmin.x[:hidden_size * (input_size + 1)], (hidden_size, (input_size + 1)))\n",
    "theta2 = np.reshape(fmin.x[hidden_size * (input_size + 1):], (num_labels, (hidden_size + 1)))\n",
    "\n",
    "a1, z2, a2, z3, h = feedforward(X, theta1, theta2)\n",
    "y_pred = np.array(np.argmax(h, axis=1) + 1)\n",
    "y_pred"
   ]
  },
  {
   "cell_type": "code",
   "execution_count": null,
   "id": "4fa79e83",
   "metadata": {},
   "outputs": [],
   "source": [
    "# 计算预测准确率\n",
    "correct = [1 if a == b else 0 for (a, b) in zip(y_pred, y)]\n",
    "accuracy = (sum(map(int, correct)) / float(len(correct)))\n",
    "print ('accuracy = {0}%'.format(accuracy * 100))\n",
    "\n",
    "from sklearn.metrics import classification_report # 这个包是评价报告\n",
    "print(classification_report(y, y_pred))"
   ]
  },
  {
   "cell_type": "code",
   "execution_count": null,
   "id": "c4a3439d",
   "metadata": {},
   "outputs": [],
   "source": [
    "# 可视化隐藏层\n",
    "hidden_layer = theta1[:, 1:]\n",
    "hidden_layer.shape"
   ]
  },
  {
   "cell_type": "code",
   "execution_count": null,
   "id": "7c57cbc0",
   "metadata": {},
   "outputs": [],
   "source": [
    "fig, ax_array = plt.subplots(nrows=5, ncols=5, sharey=True, sharex=True, figsize=(12, 12))\n",
    "for r in range(5):\n",
    "    for c in range(5):\n",
    "        ax_array[r, c].matshow(np.array(hidden_layer[5 * r + c].reshape((20, 20))),cmap=matplotlib.cm.binary)\n",
    "        plt.xticks(np.array([]))\n",
    "        plt.yticks(np.array([])) "
   ]
  }
 ],
 "metadata": {
  "kernelspec": {
   "display_name": "Python 3 (ipykernel)",
   "language": "python",
   "name": "python3"
  },
  "language_info": {
   "codemirror_mode": {
    "name": "ipython",
    "version": 3
   },
   "file_extension": ".py",
   "mimetype": "text/x-python",
   "name": "python",
   "nbconvert_exporter": "python",
   "pygments_lexer": "ipython3",
   "version": "3.9.7"
  }
 },
 "nbformat": 4,
 "nbformat_minor": 5
}
