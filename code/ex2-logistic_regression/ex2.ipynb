{
 "cells": [
  {
   "cell_type": "code",
   "execution_count": 1,
   "id": "82304181",
   "metadata": {},
   "outputs": [],
   "source": [
    "import numpy as np\n",
    "import pandas as pd\n",
    "import matplotlib.pyplot as plt"
   ]
  },
  {
   "cell_type": "code",
   "execution_count": 2,
   "id": "3ebb50d4",
   "metadata": {},
   "outputs": [
    {
     "data": {
      "text/html": [
       "<div>\n",
       "<style scoped>\n",
       "    .dataframe tbody tr th:only-of-type {\n",
       "        vertical-align: middle;\n",
       "    }\n",
       "\n",
       "    .dataframe tbody tr th {\n",
       "        vertical-align: top;\n",
       "    }\n",
       "\n",
       "    .dataframe thead th {\n",
       "        text-align: right;\n",
       "    }\n",
       "</style>\n",
       "<table border=\"1\" class=\"dataframe\">\n",
       "  <thead>\n",
       "    <tr style=\"text-align: right;\">\n",
       "      <th></th>\n",
       "      <th>Score1</th>\n",
       "      <th>Score2</th>\n",
       "      <th>Decision</th>\n",
       "    </tr>\n",
       "  </thead>\n",
       "  <tbody>\n",
       "    <tr>\n",
       "      <th>0</th>\n",
       "      <td>34.623660</td>\n",
       "      <td>78.024693</td>\n",
       "      <td>0</td>\n",
       "    </tr>\n",
       "    <tr>\n",
       "      <th>1</th>\n",
       "      <td>30.286711</td>\n",
       "      <td>43.894998</td>\n",
       "      <td>0</td>\n",
       "    </tr>\n",
       "    <tr>\n",
       "      <th>2</th>\n",
       "      <td>35.847409</td>\n",
       "      <td>72.902198</td>\n",
       "      <td>0</td>\n",
       "    </tr>\n",
       "    <tr>\n",
       "      <th>3</th>\n",
       "      <td>60.182599</td>\n",
       "      <td>86.308552</td>\n",
       "      <td>1</td>\n",
       "    </tr>\n",
       "    <tr>\n",
       "      <th>4</th>\n",
       "      <td>79.032736</td>\n",
       "      <td>75.344376</td>\n",
       "      <td>1</td>\n",
       "    </tr>\n",
       "  </tbody>\n",
       "</table>\n",
       "</div>"
      ],
      "text/plain": [
       "      Score1     Score2  Decision\n",
       "0  34.623660  78.024693         0\n",
       "1  30.286711  43.894998         0\n",
       "2  35.847409  72.902198         0\n",
       "3  60.182599  86.308552         1\n",
       "4  79.032736  75.344376         1"
      ]
     },
     "execution_count": 2,
     "metadata": {},
     "output_type": "execute_result"
    }
   ],
   "source": [
    "path = 'ex2data1.txt'\n",
    "data = pd.read_csv(path, header=None, names=['Score1', 'Score2', 'Decision'])\n",
    "data.head()"
   ]
  },
  {
   "cell_type": "code",
   "execution_count": 3,
   "id": "a84664b8",
   "metadata": {},
   "outputs": [
    {
     "data": {
      "text/plain": [
       "<matplotlib.legend.Legend at 0x7f75d5f60550>"
      ]
     },
     "execution_count": 3,
     "metadata": {},
     "output_type": "execute_result"
    },
    {
     "data": {
      "image/png": "[encoded data removed]",
      "text/plain": [
       "<Figure size 432x360 with 1 Axes>"
      ]
     },
     "metadata": {
      "needs_background": "light"
     },
     "output_type": "display_data"
    }
   ],
   "source": [
    "admitted = data[data.Decision == 1]\n",
    "not_admitted = data[data.Decision == 0]\n",
    "\n",
    "add_score1 = admitted['Score1'].to_numpy()\n",
    "add_score2 = admitted['Score2'].to_numpy()\n",
    "\n",
    "not_add_score1 = not_admitted['Score1'].to_numpy()\n",
    "not_add_score2 = not_admitted['Score2'].to_numpy()\n",
    "\n",
    "plt.figure(figsize=(6, 5))\n",
    "plt.scatter(add_score1, add_score2, marker='+', color='k', label='Admitted')\n",
    "plt.scatter(not_add_score1, not_add_score2, marker='o', color='y', label='Not admitted')\n",
    "plt.xlabel('Eaxm 1 Score')\n",
    "plt.ylabel('Eaxm 2 Score')\n",
    "plt.title('Scatter plot of traing data')\n",
    "plt.legend()"
   ]
  },
  {
   "cell_type": "code",
   "execution_count": 4,
   "id": "9e85a2ff",
   "metadata": {},
   "outputs": [
    {
     "data": {
      "text/plain": [
       "(array([[0.5, 0.5],\n",
       "        [0.5, 0.5]]),\n",
       " 0.5)"
      ]
     },
     "execution_count": 4,
     "metadata": {},
     "output_type": "execute_result"
    }
   ],
   "source": [
    "def sigmoid(x):\n",
    "    return 1 / (1 + np.exp(-x)) # 单个的数或者numpy数组\n",
    "\n",
    "a = np.zeros((2, 2))\n",
    "sigmoid(a), sigmoid(0)"
   ]
  },
  {
   "cell_type": "code",
   "execution_count": 5,
   "id": "f69b22ef",
   "metadata": {},
   "outputs": [
    {
     "data": {
      "text/html": [
       "<div>\n",
       "<style scoped>\n",
       "    .dataframe tbody tr th:only-of-type {\n",
       "        vertical-align: middle;\n",
       "    }\n",
       "\n",
       "    .dataframe tbody tr th {\n",
       "        vertical-align: top;\n",
       "    }\n",
       "\n",
       "    .dataframe thead th {\n",
       "        text-align: right;\n",
       "    }\n",
       "</style>\n",
       "<table border=\"1\" class=\"dataframe\">\n",
       "  <thead>\n",
       "    <tr style=\"text-align: right;\">\n",
       "      <th></th>\n",
       "      <th>One</th>\n",
       "      <th>Score1</th>\n",
       "      <th>Score2</th>\n",
       "      <th>Decision</th>\n",
       "    </tr>\n",
       "  </thead>\n",
       "  <tbody>\n",
       "    <tr>\n",
       "      <th>0</th>\n",
       "      <td>1</td>\n",
       "      <td>34.623660</td>\n",
       "      <td>78.024693</td>\n",
       "      <td>0</td>\n",
       "    </tr>\n",
       "    <tr>\n",
       "      <th>1</th>\n",
       "      <td>1</td>\n",
       "      <td>30.286711</td>\n",
       "      <td>43.894998</td>\n",
       "      <td>0</td>\n",
       "    </tr>\n",
       "    <tr>\n",
       "      <th>2</th>\n",
       "      <td>1</td>\n",
       "      <td>35.847409</td>\n",
       "      <td>72.902198</td>\n",
       "      <td>0</td>\n",
       "    </tr>\n",
       "    <tr>\n",
       "      <th>3</th>\n",
       "      <td>1</td>\n",
       "      <td>60.182599</td>\n",
       "      <td>86.308552</td>\n",
       "      <td>1</td>\n",
       "    </tr>\n",
       "    <tr>\n",
       "      <th>4</th>\n",
       "      <td>1</td>\n",
       "      <td>79.032736</td>\n",
       "      <td>75.344376</td>\n",
       "      <td>1</td>\n",
       "    </tr>\n",
       "  </tbody>\n",
       "</table>\n",
       "</div>"
      ],
      "text/plain": [
       "   One     Score1     Score2  Decision\n",
       "0    1  34.623660  78.024693         0\n",
       "1    1  30.286711  43.894998         0\n",
       "2    1  35.847409  72.902198         0\n",
       "3    1  60.182599  86.308552         1\n",
       "4    1  79.032736  75.344376         1"
      ]
     },
     "execution_count": 5,
     "metadata": {},
     "output_type": "execute_result"
    }
   ],
   "source": [
    "data.insert(0, 'One', 1)\n",
    "data.head()"
   ]
  },
  {
   "cell_type": "code",
   "execution_count": 6,
   "id": "abc90c97",
   "metadata": {},
   "outputs": [],
   "source": [
    "cols = data.shape[1]\n",
    "X = data.iloc[:, 0:cols - 1]\n",
    "y = data.iloc[:, cols - 1:cols]\n",
    "X = X.to_numpy()\n",
    "y = y.to_numpy()\n",
    "theta = np.zeros(3) "
   ]
  },
  {
   "cell_type": "code",
   "execution_count": 7,
   "id": "cf342b63",
   "metadata": {},
   "outputs": [
    {
     "data": {
      "text/plain": [
       "((100, 3), (100, 1), (3,))"
      ]
     },
     "execution_count": 7,
     "metadata": {},
     "output_type": "execute_result"
    }
   ],
   "source": [
    "X.shape, y.shape, theta.shape"
   ]
  },
  {
   "cell_type": "code",
   "execution_count": 8,
   "id": "cc59838d",
   "metadata": {},
   "outputs": [
    {
     "data": {
      "text/plain": [
       "0.6931471805599453"
      ]
     },
     "execution_count": 8,
     "metadata": {},
     "output_type": "execute_result"
    }
   ],
   "source": [
    "# 计算代价J(theta)\n",
    "def cost_function(theta, X, y):\n",
    "    theta = theta.reshape(1, theta.shape[0])\n",
    "    h = sigmoid(X @ theta.T)\n",
    "    m = X.shape[0]\n",
    "    temp = -y * np.log(h) - (1 - y) * np.log(1-h)\n",
    "    return  np.sum(temp) / m\n",
    "\n",
    "cost_function(theta, X, y)"
   ]
  },
  {
   "cell_type": "code",
   "execution_count": 9,
   "id": "d1b1367a",
   "metadata": {},
   "outputs": [
    {
     "data": {
      "text/plain": [
       "array([ -0.1       , -12.00921659, -11.26284221])"
      ]
     },
     "execution_count": 9,
     "metadata": {},
     "output_type": "execute_result"
    }
   ],
   "source": [
    "# 计算梯度,theta必须作为第一个参数，下面的fmin_tnc才能正常运行\n",
    "def gradient_function(theta, X, y): \n",
    "    num_params = theta.shape[0]\n",
    "    grad = np.zeros(num_params)\n",
    "    theta = theta.reshape(1, theta.shape[0])\n",
    "    for i in range(num_params):\n",
    "        part1 = sigmoid(X @ theta.T) - y \n",
    "        part2 = part1 * X[:, i].reshape(X.shape[0], 1)\n",
    "        grad[i] = np.sum(part2) / X.shape[0]\n",
    "    return grad\n",
    "\n",
    "grad =  gradient_function(theta, X, y)        \n",
    "grad"
   ]
  },
  {
   "cell_type": "code",
   "execution_count": 10,
   "id": "f30a2d72",
   "metadata": {},
   "outputs": [
    {
     "name": "stderr",
     "output_type": "stream",
     "text": [
      "  NIT   NF   F                       GTG\n",
      "    0    1  6.931471805599453E-01   2.71082898E+02\n",
      "    1    3  6.318123602631536E-01   7.89087138E-01\n",
      "    2    5  5.892425222593011E-01   7.39226590E+01\n",
      "    3    7  4.227824082768085E-01   1.85265802E+01\n",
      "    4    9  4.072926971534283E-01   1.68671130E+01\n",
      "    5   11  3.818854919624440E-01   1.07735097E+01\n",
      "    6   13  3.786234896003143E-01   2.31584926E+01\n",
      "tnc: stepmx = 1000\n",
      "    7   16  2.389268293525134E-01   3.00822031E+00\n",
      "    8   18  2.047203891739633E-01   1.52227715E-01\n",
      "    9   20  2.046713899224319E-01   6.62495126E-02\n",
      "   10   22  2.035303163220451E-01   9.30780759E-04\n",
      "tnc: fscale = 32.7775\n",
      "   11   24  2.035293522130718E-01   8.07207549E-06\n",
      "   12   26  2.035251114060307E-01   1.80213134E-04\n",
      "   13   28  2.034984106064758E-01   5.02851845E-04\n",
      "   14   30  2.034978379554757E-01   9.89948021E-06\n",
      "   15   32  2.034977905988409E-01   3.77273624E-06\n",
      "   16   34  2.034977387158876E-01   1.94311273E-05\n",
      "   17   36  2.034977015894748E-01   2.40927779E-13\n",
      "tnc: |pg| = 1.4975e-08 -> local minimum\n",
      "   17   36  2.034977015894748E-01   2.40927779E-13\n",
      "tnc: Local minima reach (|pg| ~= 0)\n"
     ]
    },
    {
     "data": {
      "text/plain": [
       "(array([-25.16131856,   0.20623159,   0.20147149]), 36, 0)"
      ]
     },
     "execution_count": 10,
     "metadata": {},
     "output_type": "execute_result"
    }
   ],
   "source": [
    "# 使用 scipy's truncated newton 寻找最优参数， x0必须是一维的array\n",
    "import scipy.optimize as opt\n",
    "result = opt.fmin_tnc(func=cost_function, x0=theta, fprime=gradient_function, args=(X, y))\n",
    "result"
   ]
  },
  {
   "cell_type": "code",
   "execution_count": 11,
   "id": "91ac4a46",
   "metadata": {},
   "outputs": [
    {
     "data": {
      "text/plain": [
       "0.20349770158947483"
      ]
     },
     "execution_count": 11,
     "metadata": {},
     "output_type": "execute_result"
    }
   ],
   "source": [
    "cost_function(result[0], X, y)"
   ]
  },
  {
   "cell_type": "code",
   "execution_count": 12,
   "id": "70f336c0",
   "metadata": {},
   "outputs": [
    {
     "data": {
      "text/plain": [
       "array([0.77629062])"
      ]
     },
     "execution_count": 12,
     "metadata": {},
     "output_type": "execute_result"
    }
   ],
   "source": [
    "# prediction: Score1=45, Score2=85\n",
    "predic = sigmoid(np.array([[1, 45, 85]]) @ result[0])\n",
    "predic"
   ]
  },
  {
   "cell_type": "code",
   "execution_count": 13,
   "id": "dbbe8c2b",
   "metadata": {},
   "outputs": [],
   "source": [
    "def prediction(theta, X):\n",
    "    output = sigmoid(X @ theta.T)\n",
    "    return [1 if x >= 0.5 else 0 for x in output]"
   ]
  },
  {
   "cell_type": "code",
   "execution_count": 14,
   "id": "0a4a42dc",
   "metadata": {},
   "outputs": [
    {
     "name": "stdout",
     "output_type": "stream",
     "text": [
      "accuracy = 89.0%\n"
     ]
    }
   ],
   "source": [
    "final_theta = result[0]\n",
    "predictions = prediction(final_theta, X)\n",
    "correct = [1 if ((a == 1 and b == 1) or (a == 0 and b == 0)) else 0 for (a, b) in zip(predictions, y)]\n",
    "accuracy = np.sum(correct) / len(correct) * 100\n",
    "print(f\"accuracy = {accuracy}%\")"
   ]
  },
  {
   "cell_type": "code",
   "execution_count": 15,
   "id": "d7eb9f75",
   "metadata": {},
   "outputs": [
    {
     "data": {
      "text/plain": [
       "<matplotlib.legend.Legend at 0x7f75d3ccff70>"
      ]
     },
     "execution_count": 15,
     "metadata": {},
     "output_type": "execute_result"
    },
    {
     "data": {
      "image/png": "[encoded data removed]",
      "text/plain": [
       "<Figure size 432x360 with 1 Axes>"
      ]
     },
     "metadata": {
      "needs_background": "light"
     },
     "output_type": "display_data"
    }
   ],
   "source": [
    "# 绘制决策边界，令theta0 + theta1 * x1 + theta2 * x2 = 0\n",
    "boundary_x = np.linspace(30, 100, 100)\n",
    "boundary_y = -(final_theta[0] + final_theta[1] * boundary_x) / final_theta[2]\n",
    "plt.figure(figsize=(6, 5))\n",
    "plt.scatter(add_score1, add_score2, marker='+', color='k', label='Admitted')\n",
    "plt.scatter(not_add_score1, not_add_score2, marker='o', color='y', label='Not admitted')\n",
    "plt.plot(boundary_x, boundary_y, 'b', label='Decision boundray')\n",
    "plt.xlabel('Eaxm 1 Score')\n",
    "plt.ylabel('Eaxm 2 Score')\n",
    "plt.title('Scatter plot of traing data')\n",
    "plt.legend()"
   ]
  },
  {
   "cell_type": "code",
   "execution_count": 16,
   "id": "c8fdbe2f",
   "metadata": {},
   "outputs": [
    {
     "data": {
      "text/html": [
       "<div>\n",
       "<style scoped>\n",
       "    .dataframe tbody tr th:only-of-type {\n",
       "        vertical-align: middle;\n",
       "    }\n",
       "\n",
       "    .dataframe tbody tr th {\n",
       "        vertical-align: top;\n",
       "    }\n",
       "\n",
       "    .dataframe thead th {\n",
       "        text-align: right;\n",
       "    }\n",
       "</style>\n",
       "<table border=\"1\" class=\"dataframe\">\n",
       "  <thead>\n",
       "    <tr style=\"text-align: right;\">\n",
       "      <th></th>\n",
       "      <th>Test1</th>\n",
       "      <th>Test2</th>\n",
       "      <th>Decision</th>\n",
       "    </tr>\n",
       "  </thead>\n",
       "  <tbody>\n",
       "    <tr>\n",
       "      <th>0</th>\n",
       "      <td>0.051267</td>\n",
       "      <td>0.69956</td>\n",
       "      <td>1</td>\n",
       "    </tr>\n",
       "    <tr>\n",
       "      <th>1</th>\n",
       "      <td>-0.092742</td>\n",
       "      <td>0.68494</td>\n",
       "      <td>1</td>\n",
       "    </tr>\n",
       "    <tr>\n",
       "      <th>2</th>\n",
       "      <td>-0.213710</td>\n",
       "      <td>0.69225</td>\n",
       "      <td>1</td>\n",
       "    </tr>\n",
       "    <tr>\n",
       "      <th>3</th>\n",
       "      <td>-0.375000</td>\n",
       "      <td>0.50219</td>\n",
       "      <td>1</td>\n",
       "    </tr>\n",
       "    <tr>\n",
       "      <th>4</th>\n",
       "      <td>-0.513250</td>\n",
       "      <td>0.46564</td>\n",
       "      <td>1</td>\n",
       "    </tr>\n",
       "  </tbody>\n",
       "</table>\n",
       "</div>"
      ],
      "text/plain": [
       "      Test1    Test2  Decision\n",
       "0  0.051267  0.69956         1\n",
       "1 -0.092742  0.68494         1\n",
       "2 -0.213710  0.69225         1\n",
       "3 -0.375000  0.50219         1\n",
       "4 -0.513250  0.46564         1"
      ]
     },
     "execution_count": 16,
     "metadata": {},
     "output_type": "execute_result"
    }
   ],
   "source": [
    "path2 = 'ex2data2.txt'\n",
    "data2 = pd.read_csv(path2, header=None, names=['Test1', 'Test2', 'Decision'])\n",
    "data2.head()"
   ]
  },
  {
   "cell_type": "code",
   "execution_count": 17,
   "id": "415b8d29",
   "metadata": {},
   "outputs": [
    {
     "data": {
      "text/plain": [
       "<matplotlib.legend.Legend at 0x7f75d3c90f70>"
      ]
     },
     "execution_count": 17,
     "metadata": {},
     "output_type": "execute_result"
    },
    {
     "data": {
      "image/png": "[encoded data removed]",
      "text/plain": [
       "<Figure size 432x360 with 1 Axes>"
      ]
     },
     "metadata": {
      "needs_background": "light"
     },
     "output_type": "display_data"
    }
   ],
   "source": [
    "accepted = data2[data2.Decision == 1]\n",
    "rejected = data2[data2.Decision == 0]\n",
    "\n",
    "acc_test1 = accepted['Test1'].to_numpy()\n",
    "acc_test2= accepted['Test2'].to_numpy()\n",
    "\n",
    "rej_test1 = rejected['Test1'].to_numpy()\n",
    "rej_test2 = rejected['Test2'].to_numpy()\n",
    "\n",
    "plt.figure(figsize=(6, 5))\n",
    "plt.scatter(acc_test1, acc_test2, marker='+', color='k', label='y=1')\n",
    "plt.scatter(rej_test1, rej_test2, marker='o', color='y', label='y=0')\n",
    "plt.xlabel('Micochip Test 1')\n",
    "plt.ylabel('Micochip Test 2')\n",
    "plt.title('Plot of traing data')\n",
    "plt.legend()"
   ]
  },
  {
   "cell_type": "code",
   "execution_count": 18,
   "id": "a67bcfe3",
   "metadata": {},
   "outputs": [
    {
     "data": {
      "text/html": [
       "<div>\n",
       "<style scoped>\n",
       "    .dataframe tbody tr th:only-of-type {\n",
       "        vertical-align: middle;\n",
       "    }\n",
       "\n",
       "    .dataframe tbody tr th {\n",
       "        vertical-align: top;\n",
       "    }\n",
       "\n",
       "    .dataframe thead th {\n",
       "        text-align: right;\n",
       "    }\n",
       "</style>\n",
       "<table border=\"1\" class=\"dataframe\">\n",
       "  <thead>\n",
       "    <tr style=\"text-align: right;\">\n",
       "      <th></th>\n",
       "      <th>Decision</th>\n",
       "      <th>One</th>\n",
       "      <th>F10</th>\n",
       "      <th>F01</th>\n",
       "      <th>F20</th>\n",
       "      <th>F11</th>\n",
       "      <th>F02</th>\n",
       "      <th>F30</th>\n",
       "      <th>F21</th>\n",
       "      <th>F12</th>\n",
       "      <th>...</th>\n",
       "      <th>F23</th>\n",
       "      <th>F14</th>\n",
       "      <th>F05</th>\n",
       "      <th>F60</th>\n",
       "      <th>F51</th>\n",
       "      <th>F42</th>\n",
       "      <th>F33</th>\n",
       "      <th>F24</th>\n",
       "      <th>F15</th>\n",
       "      <th>F06</th>\n",
       "    </tr>\n",
       "  </thead>\n",
       "  <tbody>\n",
       "    <tr>\n",
       "      <th>0</th>\n",
       "      <td>1</td>\n",
       "      <td>1</td>\n",
       "      <td>0.051267</td>\n",
       "      <td>0.69956</td>\n",
       "      <td>0.002628</td>\n",
       "      <td>0.035864</td>\n",
       "      <td>0.489384</td>\n",
       "      <td>0.000135</td>\n",
       "      <td>0.001839</td>\n",
       "      <td>0.025089</td>\n",
       "      <td>...</td>\n",
       "      <td>0.000900</td>\n",
       "      <td>0.012278</td>\n",
       "      <td>0.167542</td>\n",
       "      <td>1.815630e-08</td>\n",
       "      <td>2.477505e-07</td>\n",
       "      <td>0.000003</td>\n",
       "      <td>0.000046</td>\n",
       "      <td>0.000629</td>\n",
       "      <td>0.008589</td>\n",
       "      <td>0.117206</td>\n",
       "    </tr>\n",
       "    <tr>\n",
       "      <th>1</th>\n",
       "      <td>1</td>\n",
       "      <td>1</td>\n",
       "      <td>-0.092742</td>\n",
       "      <td>0.68494</td>\n",
       "      <td>0.008601</td>\n",
       "      <td>-0.063523</td>\n",
       "      <td>0.469143</td>\n",
       "      <td>-0.000798</td>\n",
       "      <td>0.005891</td>\n",
       "      <td>-0.043509</td>\n",
       "      <td>...</td>\n",
       "      <td>0.002764</td>\n",
       "      <td>-0.020412</td>\n",
       "      <td>0.150752</td>\n",
       "      <td>6.362953e-07</td>\n",
       "      <td>-4.699318e-06</td>\n",
       "      <td>0.000035</td>\n",
       "      <td>-0.000256</td>\n",
       "      <td>0.001893</td>\n",
       "      <td>-0.013981</td>\n",
       "      <td>0.103256</td>\n",
       "    </tr>\n",
       "    <tr>\n",
       "      <th>2</th>\n",
       "      <td>1</td>\n",
       "      <td>1</td>\n",
       "      <td>-0.213710</td>\n",
       "      <td>0.69225</td>\n",
       "      <td>0.045672</td>\n",
       "      <td>-0.147941</td>\n",
       "      <td>0.479210</td>\n",
       "      <td>-0.009761</td>\n",
       "      <td>0.031616</td>\n",
       "      <td>-0.102412</td>\n",
       "      <td>...</td>\n",
       "      <td>0.015151</td>\n",
       "      <td>-0.049077</td>\n",
       "      <td>0.158970</td>\n",
       "      <td>9.526844e-05</td>\n",
       "      <td>-3.085938e-04</td>\n",
       "      <td>0.001000</td>\n",
       "      <td>-0.003238</td>\n",
       "      <td>0.010488</td>\n",
       "      <td>-0.033973</td>\n",
       "      <td>0.110047</td>\n",
       "    </tr>\n",
       "    <tr>\n",
       "      <th>3</th>\n",
       "      <td>1</td>\n",
       "      <td>1</td>\n",
       "      <td>-0.375000</td>\n",
       "      <td>0.50219</td>\n",
       "      <td>0.140625</td>\n",
       "      <td>-0.188321</td>\n",
       "      <td>0.252195</td>\n",
       "      <td>-0.052734</td>\n",
       "      <td>0.070620</td>\n",
       "      <td>-0.094573</td>\n",
       "      <td>...</td>\n",
       "      <td>0.017810</td>\n",
       "      <td>-0.023851</td>\n",
       "      <td>0.031940</td>\n",
       "      <td>2.780914e-03</td>\n",
       "      <td>-3.724126e-03</td>\n",
       "      <td>0.004987</td>\n",
       "      <td>-0.006679</td>\n",
       "      <td>0.008944</td>\n",
       "      <td>-0.011978</td>\n",
       "      <td>0.016040</td>\n",
       "    </tr>\n",
       "    <tr>\n",
       "      <th>4</th>\n",
       "      <td>1</td>\n",
       "      <td>1</td>\n",
       "      <td>-0.513250</td>\n",
       "      <td>0.46564</td>\n",
       "      <td>0.263426</td>\n",
       "      <td>-0.238990</td>\n",
       "      <td>0.216821</td>\n",
       "      <td>-0.135203</td>\n",
       "      <td>0.122661</td>\n",
       "      <td>-0.111283</td>\n",
       "      <td>...</td>\n",
       "      <td>0.026596</td>\n",
       "      <td>-0.024128</td>\n",
       "      <td>0.021890</td>\n",
       "      <td>1.827990e-02</td>\n",
       "      <td>-1.658422e-02</td>\n",
       "      <td>0.015046</td>\n",
       "      <td>-0.013650</td>\n",
       "      <td>0.012384</td>\n",
       "      <td>-0.011235</td>\n",
       "      <td>0.010193</td>\n",
       "    </tr>\n",
       "  </tbody>\n",
       "</table>\n",
       "<p>5 rows × 29 columns</p>\n",
       "</div>"
      ],
      "text/plain": [
       "   Decision  One       F10      F01       F20       F11       F02       F30  \\\n",
       "0         1    1  0.051267  0.69956  0.002628  0.035864  0.489384  0.000135   \n",
       "1         1    1 -0.092742  0.68494  0.008601 -0.063523  0.469143 -0.000798   \n",
       "2         1    1 -0.213710  0.69225  0.045672 -0.147941  0.479210 -0.009761   \n",
       "3         1    1 -0.375000  0.50219  0.140625 -0.188321  0.252195 -0.052734   \n",
       "4         1    1 -0.513250  0.46564  0.263426 -0.238990  0.216821 -0.135203   \n",
       "\n",
       "        F21       F12  ...       F23       F14       F05           F60  \\\n",
       "0  0.001839  0.025089  ...  0.000900  0.012278  0.167542  1.815630e-08   \n",
       "1  0.005891 -0.043509  ...  0.002764 -0.020412  0.150752  6.362953e-07   \n",
       "2  0.031616 -0.102412  ...  0.015151 -0.049077  0.158970  9.526844e-05   \n",
       "3  0.070620 -0.094573  ...  0.017810 -0.023851  0.031940  2.780914e-03   \n",
       "4  0.122661 -0.111283  ...  0.026596 -0.024128  0.021890  1.827990e-02   \n",
       "\n",
       "            F51       F42       F33       F24       F15       F06  \n",
       "0  2.477505e-07  0.000003  0.000046  0.000629  0.008589  0.117206  \n",
       "1 -4.699318e-06  0.000035 -0.000256  0.001893 -0.013981  0.103256  \n",
       "2 -3.085938e-04  0.001000 -0.003238  0.010488 -0.033973  0.110047  \n",
       "3 -3.724126e-03  0.004987 -0.006679  0.008944 -0.011978  0.016040  \n",
       "4 -1.658422e-02  0.015046 -0.013650  0.012384 -0.011235  0.010193  \n",
       "\n",
       "[5 rows x 29 columns]"
      ]
     },
     "execution_count": 18,
     "metadata": {},
     "output_type": "execute_result"
    }
   ],
   "source": [
    "# Feature mapping（特征映射），每个元素包含28个特征\n",
    "   \n",
    "degree = 6\n",
    "x1 = data2['Test1']\n",
    "x2 = data2['Test2']\n",
    "\n",
    "data2.insert(3, 'One', 1)\n",
    "\n",
    "\n",
    "for i in range(1, degree + 1):\n",
    "    for j in range(0, i + 1):\n",
    "        data2['F' + str(i-j) + str(j)] = np.power(x1, i - j) * np.power(x2, j)\n",
    "\n",
    "data2.drop('Test1', axis=1, inplace=True) # 删除原来的两列\n",
    "data2.drop('Test2', axis=1, inplace=True)\n",
    "data2.head()"
   ]
  },
  {
   "cell_type": "code",
   "execution_count": 19,
   "id": "e31bc546",
   "metadata": {},
   "outputs": [
    {
     "data": {
      "text/plain": [
       "(118, 28)"
      ]
     },
     "execution_count": 19,
     "metadata": {},
     "output_type": "execute_result"
    }
   ],
   "source": [
    "cols2 = data2.shape[1]\n",
    "X2 = data2.iloc[:, 1:cols2]\n",
    "y2 = data2.iloc[:, 0:1]\n",
    "X2 = X2.to_numpy()\n",
    "y2 = y2.to_numpy()\n",
    "theta2 = np.zeros(X2.shape[1])\n",
    "X2.shape"
   ]
  },
  {
   "cell_type": "code",
   "execution_count": 20,
   "id": "deab8ecd",
   "metadata": {},
   "outputs": [],
   "source": [
    "lambda_reg = 1"
   ]
  },
  {
   "cell_type": "code",
   "execution_count": 21,
   "id": "f165ec7d",
   "metadata": {},
   "outputs": [
    {
     "data": {
      "text/plain": [
       "0.6931471805599454"
      ]
     },
     "execution_count": 21,
     "metadata": {},
     "output_type": "execute_result"
    }
   ],
   "source": [
    "# 计算代价J(theta)\n",
    "def cost_function_reg(theta, X, y, lambda_reg):\n",
    "    theta = theta.reshape(1, theta.shape[0])\n",
    "    h = sigmoid(X @ theta.T)\n",
    "    m = X.shape[0]\n",
    "    temp1 = -y * np.log(h) - (1 - y) * np.log(1-h)\n",
    "    temp2 = (theta**2)[:, 1:]\n",
    "    return  np.sum(temp1) / m + lambda_reg * np.sum(temp2) / (2 * m)\n",
    "\n",
    "cost_function_reg(theta2, X2, y2, lambda_reg)"
   ]
  },
  {
   "cell_type": "code",
   "execution_count": 22,
   "id": "d68795a9",
   "metadata": {},
   "outputs": [
    {
     "data": {
      "text/plain": [
       "array([8.47457627e-03, 1.87880932e-02, 7.77711864e-05, 5.03446395e-02,\n",
       "       1.15013308e-02, 3.76648474e-02, 1.83559872e-02, 7.32393391e-03,\n",
       "       8.19244468e-03, 2.34764889e-02, 3.93486234e-02, 2.23923907e-03,\n",
       "       1.28600503e-02, 3.09593720e-03, 3.93028171e-02, 1.99707467e-02,\n",
       "       4.32983232e-03, 3.38643902e-03, 5.83822078e-03, 4.47629067e-03,\n",
       "       3.10079849e-02, 3.10312442e-02, 1.09740238e-03, 6.31570797e-03,\n",
       "       4.08503006e-04, 7.26504316e-03, 1.37646175e-03, 3.87936363e-02])"
      ]
     },
     "execution_count": 22,
     "metadata": {},
     "output_type": "execute_result"
    }
   ],
   "source": [
    "# 计算梯度,theta必须作为第一个参数，下面的fmin_tnc才能正常运行\n",
    "def gradient_function_reg(theta, X, y, lambda_reg): \n",
    "    num_params = theta.shape[0]\n",
    "    grad = np.zeros(num_params)\n",
    "    theta = theta.reshape(1, theta.shape[0])\n",
    "    part1 = sigmoid(X @ theta.T) - y \n",
    "    for i in range(num_params):\n",
    "        part2 = part1 * X[:, i].reshape(X.shape[0], 1)\n",
    "        if i == 0:\n",
    "            grad[i] = np.sum(part2) / X.shape[0]\n",
    "        else:\n",
    "            grad[i] = np.sum(part2) / X.shape[0] + lambda_reg * theta[0, i] / X.shape[0]\n",
    "    return grad\n",
    "\n",
    "grad2 =  gradient_function_reg(theta2, X2, y2, lambda_reg)        \n",
    "grad2"
   ]
  },
  {
   "cell_type": "code",
   "execution_count": 23,
   "id": "45bac72b",
   "metadata": {
    "scrolled": false
   },
   "outputs": [
    {
     "data": {
      "text/plain": [
       "(array([ 1.27271027,  0.62529965,  1.18111686, -2.01987399, -0.9174319 ,\n",
       "        -1.43166929,  0.12393227, -0.36553118, -0.35725403, -0.17516292,\n",
       "        -1.45817009, -0.05098418, -0.61558552, -0.27469165, -1.19271298,\n",
       "        -0.2421784 , -0.20603297, -0.04466178, -0.27778952, -0.29539514,\n",
       "        -0.45645982, -1.04319155,  0.02779373, -0.29244872,  0.01555761,\n",
       "        -0.32742406, -0.1438915 , -0.92467487]),\n",
       " 32,\n",
       " 1)"
      ]
     },
     "execution_count": 23,
     "metadata": {},
     "output_type": "execute_result"
    },
    {
     "name": "stderr",
     "output_type": "stream",
     "text": [
      "  NIT   NF   F                       GTG\n",
      "    0    1  6.931471805599454E-01   1.28006529E-02\n",
      "    1    6  5.360726284899101E-01   9.47411926E-04\n",
      "tnc: fscale = 32.4886\n",
      "    2   11  5.291073385279930E-01   1.47908523E-05\n",
      "    3   14  5.290104044669249E-01   3.98099041E-07\n",
      "tnc: fscale = 1584.91\n",
      "    4   19  5.290029439300048E-01   6.89678486E-09\n",
      "    5   22  5.290028141690889E-01   3.25708526E-09\n",
      "    6   27  5.290027426721703E-01   1.38869540E-09\n",
      "tnc: |fn-fn-1] = 1.27077e-08 -> convergence\n",
      "    7   32  5.290027299644846E-01   1.16962607E-11\n",
      "tnc: Converged (|f_n-f_(n-1)| ~= 0)\n"
     ]
    }
   ],
   "source": [
    "result2 = opt.fmin_tnc(func=cost_function_reg, x0=theta2, fprime=gradient_function_reg, args=(X2, y2, lambda_reg))\n",
    "result2"
   ]
  },
  {
   "cell_type": "code",
   "execution_count": 24,
   "id": "1bc1e991",
   "metadata": {
    "scrolled": true
   },
   "outputs": [
    {
     "name": "stdout",
     "output_type": "stream",
     "text": [
      "accuracy = 83.05084745762711%\n"
     ]
    }
   ],
   "source": [
    "final_theta2 = np.array(result2[0])\n",
    "predictions = prediction(final_theta2, X2)\n",
    "correct = [1 if ((a == 1 and b == 1) or (a == 0 and b == 0)) else 0 for (a, b) in zip(predictions, y2)]\n",
    "accuracy = np.sum(correct) / len(correct) * 100\n",
    "print(f\"accuracy = {accuracy}%\")"
   ]
  },
  {
   "cell_type": "code",
   "execution_count": 25,
   "id": "dae09983",
   "metadata": {},
   "outputs": [
    {
     "data": {
      "text/plain": [
       "array([[ 1.,  1.,  2.,  1.,  2.,  4.,  1.,  2.,  4.,  8.,  1.,  2.,  4.,\n",
       "         8., 16.,  1.,  2.,  4.,  8., 16., 32.,  1.,  2.,  4.,  8., 16.,\n",
       "        32., 64.]])"
      ]
     },
     "execution_count": 25,
     "metadata": {},
     "output_type": "execute_result"
    }
   ],
   "source": [
    "def map_feature(x1, x2):\n",
    "    out = np.ones((1, 28))\n",
    "    num = 1\n",
    "    for i in range(1, degree + 1):\n",
    "        for j in range(0, i + 1):\n",
    "            out[0,num] = np.power(x1, i - j) * np.power(x2, j)  # 注意num的起始下标为[0,1]\n",
    "            num +=1\n",
    "    return out\n",
    "\n",
    "map_feature(1, 2)"
   ]
  },
  {
   "cell_type": "code",
   "execution_count": 26,
   "id": "b0ba2d80",
   "metadata": {},
   "outputs": [],
   "source": [
    "def plot_decission_boundary(X, y, theta, lamda):\n",
    "    u = np.linspace(-1, 1.5, 50)\n",
    "    v = np.linspace(-1, 1.5, 50)\n",
    "    z = np.zeros((u.shape[0], v.shape[0]))\n",
    "    for i in range(u.shape[0]):\n",
    "        for j in range(v.shape[0]):\n",
    "            z[i,j] = map_feature(u[i], v[j])@theta.T\n",
    "    z = z.T\n",
    "    cs = plt.contour(u, v, z, [0], colors='b')\n",
    "    plt.clabel(cs, cs.levels, inline=True, fmt=f'λ={lamda}', fontsize=10)  #设置label:λ=1\n",
    "    cs.collections[0].set_label('Decision Boundary')  # 设置legend图例\n",
    "    plt.legend()"
   ]
  },
  {
   "cell_type": "code",
   "execution_count": 27,
   "id": "afe96366",
   "metadata": {},
   "outputs": [],
   "source": [
    "def plot_data_mircochip(x, y, u, v):\n",
    "    plt.figure(figsize=(6, 5))\n",
    "    plt.scatter(acc_test1, acc_test2, marker='+', color='k', label='y=1')\n",
    "    plt.scatter(rej_test1, rej_test2, marker='o', color='y', label='y=0')\n",
    "    plt.xlabel('Micochip Test 1')\n",
    "    plt.ylabel('Micochip Test 2')\n",
    "    plt.title('Plot of traing data')\n",
    "    plt.legend()  "
   ]
  },
  {
   "cell_type": "code",
   "execution_count": 28,
   "id": "f03f304b",
   "metadata": {},
   "outputs": [
    {
     "data": {
      "image/png": "[encoded data removed]",
      "text/plain": [
       "<Figure size 432x360 with 1 Axes>"
      ]
     },
     "metadata": {
      "needs_background": "light"
     },
     "output_type": "display_data"
    }
   ],
   "source": [
    "plot_data_mircochip(acc_test1, acc_test2, rej_test1, rej_test2)\n",
    "plot_decission_boundary(X2, y, final_theta2, 1)"
   ]
  },
  {
   "cell_type": "code",
   "execution_count": 29,
   "id": "3b499b99",
   "metadata": {},
   "outputs": [
    {
     "name": "stderr",
     "output_type": "stream",
     "text": [
      "  NIT   NF   F                       GTG\n",
      "    0    1  6.931471805599454E-01   1.28006529E-02\n",
      "tnc: stepmx = 1000\n",
      "    1    7  3.769296914526055E-01   2.82103170E-03\n",
      "    2   11  3.576202764108259E-01   1.61492923E-04\n",
      "tnc: fscale = 78.6907\n",
      "    3   20  3.265308237344827E-01   2.45784571E-05\n",
      "    4   23  3.218671648254835E-01   2.81581741E-05\n",
      "    5   34  3.096071816519677E-01   2.48037116E-05\n",
      "    6   43  3.011858036798989E-01   2.69025136E-05\n",
      "    7   46  2.993250008519283E-01   1.39256010E-05\n",
      "    8   63  2.907322248593713E-01   4.45470948E-06\n",
      "    9   67  2.898723970726549E-01   9.76633087E-06\n",
      "   10   79  2.848803832076504E-01   1.84937425E-06\n",
      "   11   84  2.838669064044154E-01   2.05693055E-06\n",
      "   12   93  2.819359129901142E-01   1.05864194E-06\n",
      "   13  106  2.795831230778745E-01   5.49105835E-06\n",
      "   14  109  2.794227563139132E-01   1.61191638E-06\n",
      "   15  114  2.789563413823271E-01   1.43616228E-06\n",
      "   16  127  2.754042931194474E-01   6.44770707E-06\n",
      "   17  139  2.735021794977287E-01   2.50073768E-07\n",
      "tnc: fscale = 1999.7\n",
      "   18  150  2.731845904646389E-01   7.35055015E-08\n",
      "   19  162  2.718793717644826E-01   3.06000149E-06\n",
      "   20  174  2.715106345149612E-01   2.64909066E-07\n",
      "   21  189  2.702173461215380E-01   2.49982047E-07\n",
      "   22  204  2.693290327441161E-01   4.63162947E-07\n",
      "   23  217  2.684184194248071E-01   5.20935339E-07\n",
      "   24  229  2.673587449662106E-01   1.93021273E-06\n",
      "   25  242  2.661742099456293E-01   1.74512761E-07\n",
      "   26  257  2.647158165466013E-01   2.88979589E-06\n",
      "   27  270  2.626848874984203E-01   3.77672788E-07\n",
      "   28  280  2.608146610456880E-01   5.64579074E-06\n",
      "   28  280  2.608146610456880E-01   5.64579074E-06\n",
      "tnc: Maximum number of function evaluations reached\n"
     ]
    },
    {
     "data": {
      "image/png": "[encoded data removed]",
      "text/plain": [
       "<Figure size 432x360 with 1 Axes>"
      ]
     },
     "metadata": {
      "needs_background": "light"
     },
     "output_type": "display_data"
    }
   ],
   "source": [
    "lambda_reg = 0\n",
    "result3 = opt.fmin_tnc(func=cost_function_reg, x0=theta2, fprime=gradient_function_reg, args=(X2, y2, lambda_reg))\n",
    "final_theta3 =  np.array(result3[0])\n",
    "plot_data_mircochip(acc_test1, acc_test2, rej_test1, rej_test2)\n",
    "plot_decission_boundary(X2, y, final_theta3, lambda_reg)"
   ]
  },
  {
   "cell_type": "code",
   "execution_count": 30,
   "id": "0b2bc926",
   "metadata": {},
   "outputs": [
    {
     "name": "stderr",
     "output_type": "stream",
     "text": [
      "  NIT   NF   F                       GTG\n",
      "    0    1  6.931471805599454E-01   1.28006529E-02\n",
      "    1    4  6.865362017422595E-01   3.38580152E-05\n",
      "tnc: fscale = 171.858\n",
      "    2    8  6.864838347936327E-01   1.72447190E-09\n",
      "tnc: fscale = 24080.9\n",
      "tnc: |fn-fn-1] = 9.20931e-10 -> convergence\n",
      "    3   11  6.864838338727015E-01   6.16443245E-14\n",
      "tnc: Converged (|f_n-f_(n-1)| ~= 0)\n"
     ]
    },
    {
     "data": {
      "image/png": "[encoded data removed]",
      "text/plain": [
       "<Figure size 432x360 with 1 Axes>"
      ]
     },
     "metadata": {
      "needs_background": "light"
     },
     "output_type": "display_data"
    }
   ],
   "source": [
    "lambda_reg = 100\n",
    "result3 = opt.fmin_tnc(func=cost_function_reg, x0=theta2, fprime=gradient_function_reg, args=(X2, y2, lambda_reg))\n",
    "final_theta3 =  np.array(result3[0])\n",
    "plot_data_mircochip(acc_test1, acc_test2, rej_test1, rej_test2)\n",
    "plot_decission_boundary(X2, y, final_theta3, lambda_reg)"
   ]
  }
 ],
 "metadata": {
  "kernelspec": {
   "display_name": "Python 3 (ipykernel)",
   "language": "python",
   "name": "python3"
  },
  "language_info": {
   "codemirror_mode": {
    "name": "ipython",
    "version": 3
   },
   "file_extension": ".py",
   "mimetype": "text/x-python",
   "name": "python",
   "nbconvert_exporter": "python",
   "pygments_lexer": "ipython3",
   "version": "3.9.7"
  }
 },
 "nbformat": 4,
 "nbformat_minor": 5
}
